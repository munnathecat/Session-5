{
  "nbformat": 4,
  "nbformat_minor": 0,
  "metadata": {
    "colab": {
      "name": "Assignment 5 copy of EIGHTH.ipynb",
      "provenance": [],
      "collapsed_sections": [],
      "include_colab_link": true
    },
    "kernelspec": {
      "name": "python3",
      "display_name": "Python 3"
    },
    "accelerator": "GPU"
  },
  "cells": [
    {
      "cell_type": "markdown",
      "metadata": {
        "id": "view-in-github",
        "colab_type": "text"
      },
      "source": [
        "<a href=\"https://colab.research.google.com/github/munnathecat/Session-5/blob/master/Assignment_5_copy_of_EIGHTH.ipynb\" target=\"_parent\"><img src=\"https://colab.research.google.com/assets/colab-badge.svg\" alt=\"Open In Colab\"/></a>"
      ]
    },
    {
      "cell_type": "code",
      "metadata": {
        "id": "0SJyVpgSxHt4",
        "colab_type": "code",
        "colab": {}
      },
      "source": [
        "import numpy as np\n",
        "\n",
        "from keras.models import Sequential\n",
        "from keras.layers import Dense, Dropout, Activation, Flatten, Add, BatchNormalization\n",
        "from keras.layers import Convolution2D, MaxPooling2D\n",
        "from keras.utils import np_utils\n",
        "\n",
        "from keras.datasets import mnist\n",
        "from keras.preprocessing.image import ImageDataGenerator\n",
        "from keras.regularizers import l2"
      ],
      "execution_count": 0,
      "outputs": []
    },
    {
      "cell_type": "code",
      "metadata": {
        "id": "YlEUplvoxKAT",
        "colab_type": "code",
        "colab": {}
      },
      "source": [
        "(X_train, y_train), (X_test, y_test) = mnist.load_data()\n"
      ],
      "execution_count": 0,
      "outputs": []
    },
    {
      "cell_type": "code",
      "metadata": {
        "id": "I6Y9Va-xxMXG",
        "colab_type": "code",
        "outputId": "28f487c6-f7ba-472f-e6f5-7e21241507a7",
        "colab": {
          "base_uri": "https://localhost:8080/",
          "height": 303
        }
      },
      "source": [
        "print (X_train.shape)\n",
        "from matplotlib import pyplot as plt\n",
        "%matplotlib inline\n",
        "plt.imshow(X_train[1])"
      ],
      "execution_count": 79,
      "outputs": [
        {
          "output_type": "stream",
          "text": [
            "(60000, 28, 28)\n"
          ],
          "name": "stdout"
        },
        {
          "output_type": "execute_result",
          "data": {
            "text/plain": [
              "<matplotlib.image.AxesImage at 0x7f06853c2908>"
            ]
          },
          "metadata": {
            "tags": []
          },
          "execution_count": 79
        },
        {
          "output_type": "display_data",
          "data": {
            "image/png": "[encoded data removed]",
            "text/plain": [
              "<Figure size 432x288 with 1 Axes>"
            ]
          },
          "metadata": {
            "tags": []
          }
        }
      ]
    },
    {
      "cell_type": "code",
      "metadata": {
        "id": "lxDZxPhhxOgO",
        "colab_type": "code",
        "colab": {}
      },
      "source": [
        "X_train = X_train.reshape(X_train.shape[0], 28, 28,1)\n",
        "X_test = X_test.reshape(X_test.shape[0], 28, 28,1)"
      ],
      "execution_count": 0,
      "outputs": []
    },
    {
      "cell_type": "code",
      "metadata": {
        "id": "3HzMqbTnxQQW",
        "colab_type": "code",
        "colab": {}
      },
      "source": [
        "X_train = X_train.astype('float32')\n",
        "X_test = X_test.astype('float32')\n",
        "X_train /= 255\n",
        "X_test /= 255"
      ],
      "execution_count": 0,
      "outputs": []
    },
    {
      "cell_type": "code",
      "metadata": {
        "id": "7LdYiW6ixR9e",
        "colab_type": "code",
        "colab": {
          "base_uri": "https://localhost:8080/",
          "height": 34
        },
        "outputId": "f56c7db2-7e05-4cb1-c91b-b80be503647d"
      },
      "source": [
        "y_train[:10]\n",
        "Y_train = np_utils.to_categorical(y_train, 10)\n",
        "Y_test = np_utils.to_categorical(y_test, 10)\n",
        "\n",
        "\n",
        "# generator to standardize images\n",
        "datagen = ImageDataGenerator(featurewise_center=True, featurewise_std_normalization=True)\n",
        "# calculate mean on training dataset\n",
        "datagen.fit(X_train)\n",
        "# prepare an iterators to scale images\n",
        "train_iterator = datagen.flow(X_train, Y_train, batch_size=64)\n",
        "test_iterator = datagen.flow(X_test, Y_test, batch_size=64,shuffle=False)\n",
        "print('Batches train=%d, test=%d' % (len(train_iterator), len(test_iterator)))"
      ],
      "execution_count": 82,
      "outputs": [
        {
          "output_type": "stream",
          "text": [
            "Batches train=938, test=157\n"
          ],
          "name": "stdout"
        }
      ]
    },
    {
      "cell_type": "code",
      "metadata": {
        "id": "rFR0F9j0xVp2",
        "colab_type": "code",
        "outputId": "47183cc8-fb77-4b75-fc61-65c71427acc5",
        "colab": {
          "base_uri": "https://localhost:8080/",
          "height": 187
        }
      },
      "source": [
        "Y_train[:10]"
      ],
      "execution_count": 83,
      "outputs": [
        {
          "output_type": "execute_result",
          "data": {
            "text/plain": [
              "array([[0., 0., 0., 0., 0., 1., 0., 0., 0., 0.],\n",
              "       [1., 0., 0., 0., 0., 0., 0., 0., 0., 0.],\n",
              "       [0., 0., 0., 0., 1., 0., 0., 0., 0., 0.],\n",
              "       [0., 1., 0., 0., 0., 0., 0., 0., 0., 0.],\n",
              "       [0., 0., 0., 0., 0., 0., 0., 0., 0., 1.],\n",
              "       [0., 0., 1., 0., 0., 0., 0., 0., 0., 0.],\n",
              "       [0., 1., 0., 0., 0., 0., 0., 0., 0., 0.],\n",
              "       [0., 0., 0., 1., 0., 0., 0., 0., 0., 0.],\n",
              "       [0., 1., 0., 0., 0., 0., 0., 0., 0., 0.],\n",
              "       [0., 0., 0., 0., 1., 0., 0., 0., 0., 0.]], dtype=float32)"
            ]
          },
          "metadata": {
            "tags": []
          },
          "execution_count": 83
        }
      ]
    },
    {
      "cell_type": "code",
      "metadata": {
        "id": "mDpXf4YQxXRm",
        "colab_type": "code",
        "outputId": "281bdb6a-7e40-425e-a330-3dfdf4cde3d1",
        "colab": {
          "base_uri": "https://localhost:8080/",
          "height": 1000
        }
      },
      "source": [
        "from keras.layers import Activation\n",
        "model = Sequential()\n",
        " \n",
        "model.add(Convolution2D(16, 3, 3, activation='relu', input_shape=(28,28,1))) #26 (3x3)\n",
        "model.add(Dropout(0.1))\n",
        "\n",
        "model.add(Convolution2D(32, 3, 3,kernel_regularizer=l2(0.01), bias_regularizer=l2(0.01))) #24 (5x5)\n",
        "model.add(BatchNormalization())\n",
        "model.add(Activation('relu'))\n",
        "model.add(Dropout(0.1))\n",
        "\n",
        "model.add(Convolution2D(10, 1, 1, activation='relu')) #24\n",
        "\n",
        "model.add(MaxPooling2D(pool_size=(2, 2)))#12 (10x10)\n",
        "\n",
        "model.add(Convolution2D(16, 3, 3,kernel_regularizer=l2(0.01), bias_regularizer=l2(0.01)))#10 (12x12)\n",
        "model.add(BatchNormalization())\n",
        "model.add(Activation('relu'))\n",
        "model.add(Dropout(0.1))\n",
        "\n",
        "\n",
        "model.add(Convolution2D(16, 3, 3,kernel_regularizer=l2(0.01), bias_regularizer=l2(0.01)))#8 (14x14)\n",
        "model.add(BatchNormalization())\n",
        "model.add(Activation('relu'))\n",
        "model.add(Dropout(0.1))\n",
        "\n",
        "\n",
        "model.add(Convolution2D(16, 3, 3,kernel_regularizer=l2(0.01), bias_regularizer=l2(0.01)))#6 (16x16)\n",
        "model.add(BatchNormalization())\n",
        "model.add(Activation('relu'))\n",
        "model.add(Dropout(0.1))\n",
        "\n",
        "\n",
        "model.add(Convolution2D(16, 3, 3,kernel_regularizer=l2(0.01), bias_regularizer=l2(0.01)))#4 (18x18)\n",
        "model.add(BatchNormalization())\n",
        "model.add(Activation('relu'))\n",
        "model.add(Dropout(0.1))\n",
        "\n",
        "\n",
        "model.add(Convolution2D(10, 4, 4))\n",
        "model.add(BatchNormalization())\n",
        "model.add(Dropout(0.1))\n",
        "\n",
        "\n",
        "model.add(Flatten())\n",
        "model.add(Activation('softmax'))\n",
        "\n",
        "\n",
        "model.summary()"
      ],
      "execution_count": 84,
      "outputs": [
        {
          "output_type": "stream",
          "text": [
            "/usr/local/lib/python3.6/dist-packages/ipykernel_launcher.py:4: UserWarning: Update your `Conv2D` call to the Keras 2 API: `Conv2D(16, (3, 3), activation=\"relu\", input_shape=(28, 28, 1...)`\n",
            "  after removing the cwd from sys.path.\n",
            "/usr/local/lib/python3.6/dist-packages/ipykernel_launcher.py:7: UserWarning: Update your `Conv2D` call to the Keras 2 API: `Conv2D(32, (3, 3), kernel_regularizer=<keras.reg..., bias_regularizer=<keras.reg...)`\n",
            "  import sys\n",
            "/usr/local/lib/python3.6/dist-packages/ipykernel_launcher.py:12: UserWarning: Update your `Conv2D` call to the Keras 2 API: `Conv2D(10, (1, 1), activation=\"relu\")`\n",
            "  if sys.path[0] == '':\n",
            "/usr/local/lib/python3.6/dist-packages/ipykernel_launcher.py:16: UserWarning: Update your `Conv2D` call to the Keras 2 API: `Conv2D(16, (3, 3), kernel_regularizer=<keras.reg..., bias_regularizer=<keras.reg...)`\n",
            "  app.launch_new_instance()\n",
            "/usr/local/lib/python3.6/dist-packages/ipykernel_launcher.py:22: UserWarning: Update your `Conv2D` call to the Keras 2 API: `Conv2D(16, (3, 3), kernel_regularizer=<keras.reg..., bias_regularizer=<keras.reg...)`\n",
            "/usr/local/lib/python3.6/dist-packages/ipykernel_launcher.py:28: UserWarning: Update your `Conv2D` call to the Keras 2 API: `Conv2D(16, (3, 3), kernel_regularizer=<keras.reg..., bias_regularizer=<keras.reg...)`\n",
            "/usr/local/lib/python3.6/dist-packages/ipykernel_launcher.py:34: UserWarning: Update your `Conv2D` call to the Keras 2 API: `Conv2D(16, (3, 3), kernel_regularizer=<keras.reg..., bias_regularizer=<keras.reg...)`\n",
            "/usr/local/lib/python3.6/dist-packages/ipykernel_launcher.py:40: UserWarning: Update your `Conv2D` call to the Keras 2 API: `Conv2D(10, (4, 4))`\n"
          ],
          "name": "stderr"
        },
        {
          "output_type": "stream",
          "text": [
            "Model: \"sequential_7\"\n",
            "_________________________________________________________________\n",
            "Layer (type)                 Output Shape              Param #   \n",
            "=================================================================\n",
            "conv2d_49 (Conv2D)           (None, 26, 26, 16)        160       \n",
            "_________________________________________________________________\n",
            "dropout_43 (Dropout)         (None, 26, 26, 16)        0         \n",
            "_________________________________________________________________\n",
            "conv2d_50 (Conv2D)           (None, 24, 24, 32)        4640      \n",
            "_________________________________________________________________\n",
            "batch_normalization_37 (Batc (None, 24, 24, 32)        128       \n",
            "_________________________________________________________________\n",
            "activation_37 (Activation)   (None, 24, 24, 32)        0         \n",
            "_________________________________________________________________\n",
            "dropout_44 (Dropout)         (None, 24, 24, 32)        0         \n",
            "_________________________________________________________________\n",
            "conv2d_51 (Conv2D)           (None, 24, 24, 10)        330       \n",
            "_________________________________________________________________\n",
            "max_pooling2d_7 (MaxPooling2 (None, 12, 12, 10)        0         \n",
            "_________________________________________________________________\n",
            "conv2d_52 (Conv2D)           (None, 10, 10, 16)        1456      \n",
            "_________________________________________________________________\n",
            "batch_normalization_38 (Batc (None, 10, 10, 16)        64        \n",
            "_________________________________________________________________\n",
            "activation_38 (Activation)   (None, 10, 10, 16)        0         \n",
            "_________________________________________________________________\n",
            "dropout_45 (Dropout)         (None, 10, 10, 16)        0         \n",
            "_________________________________________________________________\n",
            "conv2d_53 (Conv2D)           (None, 8, 8, 16)          2320      \n",
            "_________________________________________________________________\n",
            "batch_normalization_39 (Batc (None, 8, 8, 16)          64        \n",
            "_________________________________________________________________\n",
            "activation_39 (Activation)   (None, 8, 8, 16)          0         \n",
            "_________________________________________________________________\n",
            "dropout_46 (Dropout)         (None, 8, 8, 16)          0         \n",
            "_________________________________________________________________\n",
            "conv2d_54 (Conv2D)           (None, 6, 6, 16)          2320      \n",
            "_________________________________________________________________\n",
            "batch_normalization_40 (Batc (None, 6, 6, 16)          64        \n",
            "_________________________________________________________________\n",
            "activation_40 (Activation)   (None, 6, 6, 16)          0         \n",
            "_________________________________________________________________\n",
            "dropout_47 (Dropout)         (None, 6, 6, 16)          0         \n",
            "_________________________________________________________________\n",
            "conv2d_55 (Conv2D)           (None, 4, 4, 16)          2320      \n",
            "_________________________________________________________________\n",
            "batch_normalization_41 (Batc (None, 4, 4, 16)          64        \n",
            "_________________________________________________________________\n",
            "activation_41 (Activation)   (None, 4, 4, 16)          0         \n",
            "_________________________________________________________________\n",
            "dropout_48 (Dropout)         (None, 4, 4, 16)          0         \n",
            "_________________________________________________________________\n",
            "conv2d_56 (Conv2D)           (None, 1, 1, 10)          2570      \n",
            "_________________________________________________________________\n",
            "batch_normalization_42 (Batc (None, 1, 1, 10)          40        \n",
            "_________________________________________________________________\n",
            "dropout_49 (Dropout)         (None, 1, 1, 10)          0         \n",
            "_________________________________________________________________\n",
            "flatten_7 (Flatten)          (None, 10)                0         \n",
            "_________________________________________________________________\n",
            "activation_42 (Activation)   (None, 10)                0         \n",
            "=================================================================\n",
            "Total params: 16,540\n",
            "Trainable params: 16,328\n",
            "Non-trainable params: 212\n",
            "_________________________________________________________________\n"
          ],
          "name": "stdout"
        }
      ]
    },
    {
      "cell_type": "code",
      "metadata": {
        "id": "je2Umk0hgQ6Y",
        "colab_type": "code",
        "colab": {
          "base_uri": "https://localhost:8080/",
          "height": 34
        },
        "outputId": "e7dfe619-8c39-4847-95b1-386f7020b8c2"
      },
      "source": [
        "#Mounting google drive in colab to save model and misclassified image\n",
        "\n",
        "from google.colab import drive\n",
        "drive.mount('/content/gdrive')"
      ],
      "execution_count": 85,
      "outputs": [
        {
          "output_type": "stream",
          "text": [
            "Mounted at /content/gdrive\n"
          ],
          "name": "stdout"
        }
      ]
    },
    {
      "cell_type": "code",
      "metadata": {
        "id": "L2IicGJ4x3Be",
        "colab_type": "code",
        "outputId": "1419e17c-bac2-4f76-f5d7-904e76f2066c",
        "colab": {
          "base_uri": "https://localhost:8080/",
          "height": 1000
        }
      },
      "source": [
        "from keras.optimizers import Adam\n",
        "from keras.callbacks import LearningRateScheduler\n",
        "from keras.callbacks import ModelCheckpoint\n",
        "\n",
        "def scheduler(epoch, lr):\n",
        "  return round(0.003 * 1/(1 + 0.319 * epoch), 10)\n",
        "\n",
        "model.compile(optimizer='adam', loss='categorical_crossentropy', metrics=['accuracy'])\n",
        "\n",
        "\n",
        "\n",
        "#Store the model in the HDF5 file format\n",
        "from google.colab import drive\n",
        "drive.mount('/content/gdrive')\n",
        "\n",
        "filepath=F\"/content/gdrive/My Drive/weights.best.hdf5\"\n",
        "\n",
        "\n",
        "checkpoint = ModelCheckpoint(filepath, monitor='val_acc', verbose=1, save_best_only=True, mode='max')\n",
        "\n",
        "\n",
        "model.fit(train_iterator, epochs=40,\n",
        "          steps_per_epoch=len(train_iterator),\n",
        "          verbose=1,\n",
        "          validation_data= test_iterator,\n",
        "          validation_steps = len(test_iterator),\n",
        "          callbacks=[checkpoint]\n",
        "          )\n",
        "          \n",
        "          "
      ],
      "execution_count": 86,
      "outputs": [
        {
          "output_type": "stream",
          "text": [
            "Drive already mounted at /content/gdrive; to attempt to forcibly remount, call drive.mount(\"/content/gdrive\", force_remount=True).\n",
            "Epoch 1/40\n",
            "938/938 [==============================] - 31s 34ms/step - loss: 1.0292 - acc: 0.8132 - val_loss: 0.5691 - val_acc: 0.9472\n",
            "\n",
            "Epoch 00001: val_acc improved from -inf to 0.94720, saving model to /content/gdrive/My Drive/weights.best.hdf5\n",
            "Epoch 2/40\n",
            "938/938 [==============================] - 24s 25ms/step - loss: 0.4035 - acc: 0.8970 - val_loss: 0.1642 - val_acc: 0.9794\n",
            "\n",
            "Epoch 00002: val_acc improved from 0.94720 to 0.97940, saving model to /content/gdrive/My Drive/weights.best.hdf5\n",
            "Epoch 3/40\n",
            "938/938 [==============================] - 24s 25ms/step - loss: 0.3228 - acc: 0.9153 - val_loss: 0.1312 - val_acc: 0.9847\n",
            "\n",
            "Epoch 00003: val_acc improved from 0.97940 to 0.98470, saving model to /content/gdrive/My Drive/weights.best.hdf5\n",
            "Epoch 4/40\n",
            "938/938 [==============================] - 24s 25ms/step - loss: 0.2863 - acc: 0.9247 - val_loss: 0.1375 - val_acc: 0.9824\n",
            "\n",
            "Epoch 00004: val_acc did not improve from 0.98470\n",
            "Epoch 5/40\n",
            "938/938 [==============================] - 24s 25ms/step - loss: 0.2674 - acc: 0.9302 - val_loss: 0.1155 - val_acc: 0.9840\n",
            "\n",
            "Epoch 00005: val_acc did not improve from 0.98470\n",
            "Epoch 6/40\n",
            "938/938 [==============================] - 24s 25ms/step - loss: 0.2511 - acc: 0.9347 - val_loss: 0.1262 - val_acc: 0.9797\n",
            "\n",
            "Epoch 00006: val_acc did not improve from 0.98470\n",
            "Epoch 7/40\n",
            "938/938 [==============================] - 23s 25ms/step - loss: 0.2425 - acc: 0.9362 - val_loss: 0.1191 - val_acc: 0.9856\n",
            "\n",
            "Epoch 00007: val_acc improved from 0.98470 to 0.98560, saving model to /content/gdrive/My Drive/weights.best.hdf5\n",
            "Epoch 8/40\n",
            "938/938 [==============================] - 23s 25ms/step - loss: 0.2377 - acc: 0.9371 - val_loss: 0.1206 - val_acc: 0.9824\n",
            "\n",
            "Epoch 00008: val_acc did not improve from 0.98560\n",
            "Epoch 9/40\n",
            "938/938 [==============================] - 23s 25ms/step - loss: 0.2311 - acc: 0.9384 - val_loss: 0.1090 - val_acc: 0.9864\n",
            "\n",
            "Epoch 00009: val_acc improved from 0.98560 to 0.98640, saving model to /content/gdrive/My Drive/weights.best.hdf5\n",
            "Epoch 10/40\n",
            "938/938 [==============================] - 23s 25ms/step - loss: 0.2249 - acc: 0.9392 - val_loss: 0.1186 - val_acc: 0.9827\n",
            "\n",
            "Epoch 00010: val_acc did not improve from 0.98640\n",
            "Epoch 11/40\n",
            "938/938 [==============================] - 23s 25ms/step - loss: 0.2211 - acc: 0.9397 - val_loss: 0.1023 - val_acc: 0.9872\n",
            "\n",
            "Epoch 00011: val_acc improved from 0.98640 to 0.98720, saving model to /content/gdrive/My Drive/weights.best.hdf5\n",
            "Epoch 12/40\n",
            "938/938 [==============================] - 23s 25ms/step - loss: 0.2157 - acc: 0.9410 - val_loss: 0.0978 - val_acc: 0.9879\n",
            "\n",
            "Epoch 00012: val_acc improved from 0.98720 to 0.98790, saving model to /content/gdrive/My Drive/weights.best.hdf5\n",
            "Epoch 13/40\n",
            "938/938 [==============================] - 23s 25ms/step - loss: 0.2169 - acc: 0.9394 - val_loss: 0.1259 - val_acc: 0.9825\n",
            "\n",
            "Epoch 00013: val_acc did not improve from 0.98790\n",
            "Epoch 14/40\n",
            "938/938 [==============================] - 24s 25ms/step - loss: 0.2145 - acc: 0.9424 - val_loss: 0.1131 - val_acc: 0.9843\n",
            "\n",
            "Epoch 00014: val_acc did not improve from 0.98790\n",
            "Epoch 15/40\n",
            "938/938 [==============================] - 24s 25ms/step - loss: 0.2154 - acc: 0.9397 - val_loss: 0.1134 - val_acc: 0.9840\n",
            "\n",
            "Epoch 00015: val_acc did not improve from 0.98790\n",
            "Epoch 16/40\n",
            "938/938 [==============================] - 24s 25ms/step - loss: 0.2109 - acc: 0.9414 - val_loss: 0.1000 - val_acc: 0.9879\n",
            "\n",
            "Epoch 00016: val_acc did not improve from 0.98790\n",
            "Epoch 17/40\n",
            "938/938 [==============================] - 24s 25ms/step - loss: 0.2092 - acc: 0.9414 - val_loss: 0.0837 - val_acc: 0.9930\n",
            "\n",
            "Epoch 00017: val_acc improved from 0.98790 to 0.99300, saving model to /content/gdrive/My Drive/weights.best.hdf5\n",
            "Epoch 18/40\n",
            "938/938 [==============================] - 23s 25ms/step - loss: 0.2144 - acc: 0.9407 - val_loss: 0.1123 - val_acc: 0.9848\n",
            "\n",
            "Epoch 00018: val_acc did not improve from 0.99300\n",
            "Epoch 19/40\n",
            "938/938 [==============================] - 23s 25ms/step - loss: 0.2170 - acc: 0.9402 - val_loss: 0.0982 - val_acc: 0.9891\n",
            "\n",
            "Epoch 00019: val_acc did not improve from 0.99300\n",
            "Epoch 20/40\n",
            "938/938 [==============================] - 24s 25ms/step - loss: 0.2103 - acc: 0.9427 - val_loss: 0.0990 - val_acc: 0.9891\n",
            "\n",
            "Epoch 00020: val_acc did not improve from 0.99300\n",
            "Epoch 21/40\n",
            "938/938 [==============================] - 23s 25ms/step - loss: 0.2083 - acc: 0.9421 - val_loss: 0.1094 - val_acc: 0.9852\n",
            "\n",
            "Epoch 00021: val_acc did not improve from 0.99300\n",
            "Epoch 22/40\n",
            "938/938 [==============================] - 23s 25ms/step - loss: 0.2043 - acc: 0.9425 - val_loss: 0.0992 - val_acc: 0.9874\n",
            "\n",
            "Epoch 00022: val_acc did not improve from 0.99300\n",
            "Epoch 23/40\n",
            "938/938 [==============================] - 24s 25ms/step - loss: 0.2047 - acc: 0.9431 - val_loss: 0.1037 - val_acc: 0.9861\n",
            "\n",
            "Epoch 00023: val_acc did not improve from 0.99300\n",
            "Epoch 24/40\n",
            "938/938 [==============================] - 23s 25ms/step - loss: 0.2115 - acc: 0.9398 - val_loss: 0.0957 - val_acc: 0.9881\n",
            "\n",
            "Epoch 00024: val_acc did not improve from 0.99300\n",
            "Epoch 25/40\n",
            "938/938 [==============================] - 23s 25ms/step - loss: 0.2107 - acc: 0.9408 - val_loss: 0.1197 - val_acc: 0.9809\n",
            "\n",
            "Epoch 00025: val_acc did not improve from 0.99300\n",
            "Epoch 26/40\n",
            "938/938 [==============================] - 23s 25ms/step - loss: 0.2110 - acc: 0.9406 - val_loss: 0.0965 - val_acc: 0.9889\n",
            "\n",
            "Epoch 00026: val_acc did not improve from 0.99300\n",
            "Epoch 27/40\n",
            "938/938 [==============================] - 24s 25ms/step - loss: 0.2055 - acc: 0.9416 - val_loss: 0.0977 - val_acc: 0.9874\n",
            "\n",
            "Epoch 00027: val_acc did not improve from 0.99300\n",
            "Epoch 28/40\n",
            "938/938 [==============================] - 23s 25ms/step - loss: 0.2069 - acc: 0.9419 - val_loss: 0.1092 - val_acc: 0.9865\n",
            "\n",
            "Epoch 00028: val_acc did not improve from 0.99300\n",
            "Epoch 29/40\n",
            "938/938 [==============================] - 24s 25ms/step - loss: 0.2048 - acc: 0.9410 - val_loss: 0.0986 - val_acc: 0.9880\n",
            "\n",
            "Epoch 00029: val_acc did not improve from 0.99300\n",
            "Epoch 30/40\n",
            "938/938 [==============================] - 23s 25ms/step - loss: 0.2050 - acc: 0.9423 - val_loss: 0.1018 - val_acc: 0.9872\n",
            "\n",
            "Epoch 00030: val_acc did not improve from 0.99300\n",
            "Epoch 31/40\n",
            "938/938 [==============================] - 23s 25ms/step - loss: 0.2065 - acc: 0.9406 - val_loss: 0.0954 - val_acc: 0.9885\n",
            "\n",
            "Epoch 00031: val_acc did not improve from 0.99300\n",
            "Epoch 32/40\n",
            "938/938 [==============================] - 23s 25ms/step - loss: 0.2030 - acc: 0.9424 - val_loss: 0.0895 - val_acc: 0.9906\n",
            "\n",
            "Epoch 00032: val_acc did not improve from 0.99300\n",
            "Epoch 33/40\n",
            "938/938 [==============================] - 23s 25ms/step - loss: 0.2037 - acc: 0.9417 - val_loss: 0.0983 - val_acc: 0.9874\n",
            "\n",
            "Epoch 00033: val_acc did not improve from 0.99300\n",
            "Epoch 34/40\n",
            "938/938 [==============================] - 23s 25ms/step - loss: 0.2036 - acc: 0.9412 - val_loss: 0.1151 - val_acc: 0.9830\n",
            "\n",
            "Epoch 00034: val_acc did not improve from 0.99300\n",
            "Epoch 35/40\n",
            "938/938 [==============================] - 23s 25ms/step - loss: 0.2026 - acc: 0.9422 - val_loss: 0.0955 - val_acc: 0.9895\n",
            "\n",
            "Epoch 00035: val_acc did not improve from 0.99300\n",
            "Epoch 36/40\n",
            "938/938 [==============================] - 23s 25ms/step - loss: 0.1994 - acc: 0.9433 - val_loss: 0.1025 - val_acc: 0.9877\n",
            "\n",
            "Epoch 00036: val_acc did not improve from 0.99300\n",
            "Epoch 37/40\n",
            "938/938 [==============================] - 24s 25ms/step - loss: 0.2071 - acc: 0.9411 - val_loss: 0.1012 - val_acc: 0.9870\n",
            "\n",
            "Epoch 00037: val_acc did not improve from 0.99300\n",
            "Epoch 38/40\n",
            "938/938 [==============================] - 24s 25ms/step - loss: 0.2014 - acc: 0.9424 - val_loss: 0.0915 - val_acc: 0.9902\n",
            "\n",
            "Epoch 00038: val_acc did not improve from 0.99300\n",
            "Epoch 39/40\n",
            "938/938 [==============================] - 23s 25ms/step - loss: 0.2026 - acc: 0.9411 - val_loss: 0.1310 - val_acc: 0.9773\n",
            "\n",
            "Epoch 00039: val_acc did not improve from 0.99300\n",
            "Epoch 40/40\n",
            "938/938 [==============================] - 24s 25ms/step - loss: 0.2071 - acc: 0.9410 - val_loss: 0.1017 - val_acc: 0.9874\n",
            "\n",
            "Epoch 00040: val_acc did not improve from 0.99300\n"
          ],
          "name": "stdout"
        },
        {
          "output_type": "execute_result",
          "data": {
            "text/plain": [
              "<keras.callbacks.History at 0x7f0687d9b860>"
            ]
          },
          "metadata": {
            "tags": []
          },
          "execution_count": 86
        }
      ]
    },
    {
      "cell_type": "code",
      "metadata": {
        "id": "WLxlW9ufyQiO",
        "colab_type": "code",
        "outputId": "5dd2aa7f-f102-47c2-e617-fd910d0dbea6",
        "colab": {
          "base_uri": "https://localhost:8080/",
          "height": 34
        }
      },
      "source": [
        "\n",
        "score = model.evaluate(X_test, Y_test, verbose=0)\n",
        "print(score)"
      ],
      "execution_count": 87,
      "outputs": [
        {
          "output_type": "stream",
          "text": [
            "[3.631985563278198, 0.3103]\n"
          ],
          "name": "stdout"
        }
      ]
    },
    {
      "cell_type": "code",
      "metadata": {
        "id": "m2qDl21ozBnW",
        "colab_type": "code",
        "colab": {
          "base_uri": "https://localhost:8080/",
          "height": 85
        },
        "outputId": "aed8f693-84a5-4834-9ca0-96e7af940a68"
      },
      "source": [
        "#reload model and test it with the 10000 instances:\n",
        "\n",
        "from keras.models import load_model\n",
        "from keras.preprocessing.image import save_img\n",
        "from sklearn.metrics import classification_report, confusion_matrix\n",
        "\n",
        "#Load the best saved model and create predictions on the test set\n",
        "\n",
        "mnist_model = load_model(filepath)\n",
        "\n",
        "probabilities = mnist_model.predict_generator(test_iterator,steps=len(test_iterator))\n",
        "\n",
        "print(probabilities[0])\n",
        "y_pred = np.argmax(probabilities, axis=1)\n",
        "\n",
        "\n",
        "#See which we predicted correctly and which not\n",
        "\n",
        "correct_indices = np.nonzero(y_pred == y_test)[0] \n",
        "incorrect_indices = np.nonzero(y_pred != y_test)[0]\n",
        "print(len(correct_indices),\" classified correctly\") \n",
        "print(len(incorrect_indices),\" classified incorrectly\")\n",
        "\n",
        "\n"
      ],
      "execution_count": 88,
      "outputs": [
        {
          "output_type": "stream",
          "text": [
            "[3.4836876e-06 6.2675049e-06 3.5242983e-06 6.5347931e-06 1.2964917e-05\n",
            " 3.2364630e-06 1.5958987e-05 9.9990261e-01 7.5028947e-06 3.7944596e-05]\n",
            "9930  classified correctly\n",
            "70  classified incorrectly\n"
          ],
          "name": "stdout"
        }
      ]
    },
    {
      "cell_type": "code",
      "metadata": {
        "id": "uWFNZCovlLif",
        "colab_type": "code",
        "colab": {
          "base_uri": "https://localhost:8080/",
          "height": 1000
        },
        "outputId": "0b7b39ed-4e1f-4b04-cf17-84e4e0cf5ae8"
      },
      "source": [
        "# plot and save 25 images incorrect predictions to Drive\n",
        "\n",
        "\n",
        "for i, incorrect in enumerate(incorrect_indices[:25]):\n",
        "\n",
        "  filepath2=\"{}{}.{}\".format(F\"/content/gdrive/My Drive/test/\",i,\".jpg\")\n",
        "  \n",
        "  print(filepath2)\n",
        "  \n",
        "  save_img(filepath2, X_test[incorrect])\n",
        "\n",
        "  plt.imshow(X_test[incorrect].reshape(28,28), cmap='gray', interpolation='none')\n",
        "\n",
        "  plt.title( \"Predicted {}, Truth: {}\".format(y_pred[incorrect], y_test[incorrect]))\n",
        "\n",
        "  plt.xticks([])\n",
        "\n",
        "  plt.yticks([])\n",
        "\n",
        "  plt.show()"
      ],
      "execution_count": 89,
      "outputs": [
        {
          "output_type": "stream",
          "text": [
            "/content/gdrive/My Drive/test/0..jpg\n"
          ],
          "name": "stdout"
        },
        {
          "output_type": "display_data",
          "data": {
            "image/png": "[encoded data removed]",
            "text/plain": [
              "<Figure size 432x288 with 1 Axes>"
            ]
          },
          "metadata": {
            "tags": []
          }
        },
        {
          "output_type": "stream",
          "text": [
            "/content/gdrive/My Drive/test/1..jpg\n"
          ],
          "name": "stdout"
        },
        {
          "output_type": "display_data",
          "data": {
            "image/png": "[encoded data removed]",
            "text/plain": [
              "<Figure size 432x288 with 1 Axes>"
            ]
          },
          "metadata": {
            "tags": []
          }
        },
        {
          "output_type": "stream",
          "text": [
            "/content/gdrive/My Drive/test/2..jpg\n"
          ],
          "name": "stdout"
        },
        {
          "output_type": "display_data",
          "data": {
            "image/png": "[encoded data removed]",
            "text/plain": [
              "<Figure size 432x288 with 1 Axes>"
            ]
          },
          "metadata": {
            "tags": []
          }
        },
        {
          "output_type": "stream",
          "text": [
            "/content/gdrive/My Drive/test/3..jpg\n"
          ],
          "name": "stdout"
        },
        {
          "output_type": "display_data",
          "data": {
            "image/png": "[encoded data removed]",
            "text/plain": [
              "<Figure size 432x288 with 1 Axes>"
            ]
          },
          "metadata": {
            "tags": []
          }
        },
        {
          "output_type": "stream",
          "text": [
            "/content/gdrive/My Drive/test/4..jpg\n"
          ],
          "name": "stdout"
        },
        {
          "output_type": "display_data",
          "data": {
            "image/png": "[encoded data removed]",
            "text/plain": [
              "<Figure size 432x288 with 1 Axes>"
            ]
          },
          "metadata": {
            "tags": []
          }
        },
        {
          "output_type": "stream",
          "text": [
            "/content/gdrive/My Drive/test/5..jpg\n"
          ],
          "name": "stdout"
        },
        {
          "output_type": "display_data",
          "data": {
            "image/png": "[encoded data removed]",
            "text/plain": [
              "<Figure size 432x288 with 1 Axes>"
            ]
          },
          "metadata": {
            "tags": []
          }
        },
        {
          "output_type": "stream",
          "text": [
            "/content/gdrive/My Drive/test/6..jpg\n"
          ],
          "name": "stdout"
        },
        {
          "output_type": "display_data",
          "data": {
            "image/png": "[encoded data removed]",
            "text/plain": [
              "<Figure size 432x288 with 1 Axes>"
            ]
          },
          "metadata": {
            "tags": []
          }
        },
        {
          "output_type": "stream",
          "text": [
            "/content/gdrive/My Drive/test/7..jpg\n"
          ],
          "name": "stdout"
        },
        {
          "output_type": "display_data",
          "data": {
            "image/png": "[encoded data removed]",
            "text/plain": [
              "<Figure size 432x288 with 1 Axes>"
            ]
          },
          "metadata": {
            "tags": []
          }
        },
        {
          "output_type": "stream",
          "text": [
            "/content/gdrive/My Drive/test/8..jpg\n"
          ],
          "name": "stdout"
        },
        {
          "output_type": "display_data",
          "data": {
            "image/png": "[encoded data removed]",
            "text/plain": [
              "<Figure size 432x288 with 1 Axes>"
            ]
          },
          "metadata": {
            "tags": []
          }
        },
        {
          "output_type": "stream",
          "text": [
            "/content/gdrive/My Drive/test/9..jpg\n"
          ],
          "name": "stdout"
        },
        {
          "output_type": "display_data",
          "data": {
            "image/png": "[encoded data removed]",
            "text/plain": [
              "<Figure size 432x288 with 1 Axes>"
            ]
          },
          "metadata": {
            "tags": []
          }
        },
        {
          "output_type": "stream",
          "text": [
            "/content/gdrive/My Drive/test/10..jpg\n"
          ],
          "name": "stdout"
        },
        {
          "output_type": "display_data",
          "data": {
            "image/png": "[encoded data removed]",
            "text/plain": [
              "<Figure size 432x288 with 1 Axes>"
            ]
          },
          "metadata": {
            "tags": []
          }
        },
        {
          "output_type": "stream",
          "text": [
            "/content/gdrive/My Drive/test/11..jpg\n"
          ],
          "name": "stdout"
        },
        {
          "output_type": "display_data",
          "data": {
            "image/png": "[encoded data removed]",
            "text/plain": [
              "<Figure size 432x288 with 1 Axes>"
            ]
          },
          "metadata": {
            "tags": []
          }
        },
        {
          "output_type": "stream",
          "text": [
            "/content/gdrive/My Drive/test/12..jpg\n"
          ],
          "name": "stdout"
        },
        {
          "output_type": "display_data",
          "data": {
            "image/png": "[encoded data removed]",
            "text/plain": [
              "<Figure size 432x288 with 1 Axes>"
            ]
          },
          "metadata": {
            "tags": []
          }
        },
        {
          "output_type": "stream",
          "text": [
            "/content/gdrive/My Drive/test/13..jpg\n"
          ],
          "name": "stdout"
        },
        {
          "output_type": "display_data",
          "data": {
            "image/png": "[encoded data removed]",
            "text/plain": [
              "<Figure size 432x288 with 1 Axes>"
            ]
          },
          "metadata": {
            "tags": []
          }
        },
        {
          "output_type": "stream",
          "text": [
            "/content/gdrive/My Drive/test/14..jpg\n"
          ],
          "name": "stdout"
        },
        {
          "output_type": "display_data",
          "data": {
            "image/png": "[encoded data removed]",
            "text/plain": [
              "<Figure size 432x288 with 1 Axes>"
            ]
          },
          "metadata": {
            "tags": []
          }
        },
        {
          "output_type": "stream",
          "text": [
            "/content/gdrive/My Drive/test/15..jpg\n"
          ],
          "name": "stdout"
        },
        {
          "output_type": "display_data",
          "data": {
            "image/png": "[encoded data removed]",
            "text/plain": [
              "<Figure size 432x288 with 1 Axes>"
            ]
          },
          "metadata": {
            "tags": []
          }
        },
        {
          "output_type": "stream",
          "text": [
            "/content/gdrive/My Drive/test/16..jpg\n"
          ],
          "name": "stdout"
        },
        {
          "output_type": "display_data",
          "data": {
            "image/png": "[encoded data removed]",
            "text/plain": [
              "<Figure size 432x288 with 1 Axes>"
            ]
          },
          "metadata": {
            "tags": []
          }
        },
        {
          "output_type": "stream",
          "text": [
            "/content/gdrive/My Drive/test/17..jpg\n"
          ],
          "name": "stdout"
        },
        {
          "output_type": "display_data",
          "data": {
            "image/png": "[encoded data removed]",
            "text/plain": [
              "<Figure size 432x288 with 1 Axes>"
            ]
          },
          "metadata": {
            "tags": []
          }
        },
        {
          "output_type": "stream",
          "text": [
            "/content/gdrive/My Drive/test/18..jpg\n"
          ],
          "name": "stdout"
        },
        {
          "output_type": "display_data",
          "data": {
            "image/png": "[encoded data removed]",
            "text/plain": [
              "<Figure size 432x288 with 1 Axes>"
            ]
          },
          "metadata": {
            "tags": []
          }
        },
        {
          "output_type": "stream",
          "text": [
            "/content/gdrive/My Drive/test/19..jpg\n"
          ],
          "name": "stdout"
        },
        {
          "output_type": "display_data",
          "data": {
            "image/png": "[encoded data removed]",
            "text/plain": [
              "<Figure size 432x288 with 1 Axes>"
            ]
          },
          "metadata": {
            "tags": []
          }
        },
        {
          "output_type": "stream",
          "text": [
            "/content/gdrive/My Drive/test/20..jpg\n"
          ],
          "name": "stdout"
        },
        {
          "output_type": "display_data",
          "data": {
            "image/png": "[encoded data removed]",
            "text/plain": [
              "<Figure size 432x288 with 1 Axes>"
            ]
          },
          "metadata": {
            "tags": []
          }
        },
        {
          "output_type": "stream",
          "text": [
            "/content/gdrive/My Drive/test/21..jpg\n"
          ],
          "name": "stdout"
        },
        {
          "output_type": "display_data",
          "data": {
            "image/png": "[encoded data removed]",
            "text/plain": [
              "<Figure size 432x288 with 1 Axes>"
            ]
          },
          "metadata": {
            "tags": []
          }
        },
        {
          "output_type": "stream",
          "text": [
            "/content/gdrive/My Drive/test/22..jpg\n"
          ],
          "name": "stdout"
        },
        {
          "output_type": "display_data",
          "data": {
            "image/png": "[encoded data removed]",
            "text/plain": [
              "<Figure size 432x288 with 1 Axes>"
            ]
          },
          "metadata": {
            "tags": []
          }
        },
        {
          "output_type": "stream",
          "text": [
            "/content/gdrive/My Drive/test/23..jpg\n"
          ],
          "name": "stdout"
        },
        {
          "output_type": "display_data",
          "data": {
            "image/png": "[encoded data removed]",
            "text/plain": [
              "<Figure size 432x288 with 1 Axes>"
            ]
          },
          "metadata": {
            "tags": []
          }
        },
        {
          "output_type": "stream",
          "text": [
            "/content/gdrive/My Drive/test/24..jpg\n"
          ],
          "name": "stdout"
        },
        {
          "output_type": "display_data",
          "data": {
            "image/png": "[encoded data removed]",
            "text/plain": [
              "<Figure size 432x288 with 1 Axes>"
            ]
          },
          "metadata": {
            "tags": []
          }
        }
      ]
    }
  ]
}